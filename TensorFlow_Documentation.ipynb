{
 "cells": [
  {
   "attachments": {},
   "cell_type": "markdown",
   "metadata": {},
   "source": [
    "# Documentation #1: TensorFlow:\n",
    "\n"
   ]
  },
  {
   "attachments": {},
   "cell_type": "markdown",
   "metadata": {},
   "source": [
    "## What is tensorflow?\n",
    "\n",
    "There are various libraries intented to facilitate constructing Machine learning models, which include Neural network models etc., for example, theano, keras etc. \n",
    "Tensorflow is an open source python library which is developed by Google, which has the following advantages over other libraries:\n",
    "1. It offers APIs, which basically enables us to bypass the process of setting up a neural network for example etc. This facilitates working with the deep learning models at a 'higher level'.\n",
    "\n",
    "2. It can leverage GPUs (which are designed to handle intensive dynamic computation required in gaming) to create and execute ML models which typically consist of a plethora of iterative calculations.\n",
    "\n",
    "3. Faster compilation time than other languages. "
   ]
  },
  {
   "attachments": {},
   "cell_type": "markdown",
   "metadata": {},
   "source": [
    "## Tensors:\n",
    "\n",
    "The central component of TensorFLow are the tensors. A tensor is nothing but a multidimensional array which is a generalization of a vector. \n",
    "\n",
    "1. A 0D array is a scalar.\n",
    "\n",
    "2. A 1D array is a vector.\n",
    "\n",
    "3. A 2D array is a matrix.\n",
    "\n",
    "4. An N dimensional array is a tensor, e.g. (a 3D tensor containing 2 matrices.)\n",
    "\n"
   ]
  },
  {
   "cell_type": "code",
   "execution_count": null,
   "metadata": {},
   "outputs": [],
   "source": [
    "# Importing the necessary libraries to use TF1.x\n",
    "import tensorflow.compat.v1 as tf\n",
    "tf.compat.v1.disable_eager_execution() # need to disable eager in TF2.x"
   ]
  },
  {
   "attachments": {},
   "cell_type": "markdown",
   "metadata": {},
   "source": [
    "Following are some examples of tensors of different dimensions:"
   ]
  },
  {
   "cell_type": "code",
   "execution_count": null,
   "metadata": {},
   "outputs": [],
   "source": [
    "t1 = tf.constant(4) # 0D array\n",
    "t2 = tf.constant([1,2,3]) # 1D array\n",
    "t3 = tf.constant([[1,2],[2,3]]) # 2D array\n",
    "t4 = tf.constant([[[1,2],[2,3]] , [[3,4],[4,5]]]) # 3D array"
   ]
  },
  {
   "attachments": {},
   "cell_type": "markdown",
   "metadata": {},
   "source": [
    "One can think of a vector as a box of objects or elements (scalars) and a matrix as a bigger box within which multiples vectors (smaller boxes) can be kept. Thus, a 3D tensor is an even bigger box, in which several matrices (smaller boxes) can be kept and so on. \n",
    "\n",
    "\n",
    "<br>\n",
    "TensorFlow has various functions and operations which it can perform on these tensors efficiently and thus, very complicated, large sets of data can be represented as tensors and operated upon."
   ]
  },
  {
   "attachments": {},
   "cell_type": "markdown",
   "metadata": {},
   "source": [
    "# Doumentation #2: Basic TensorFlow elements:\n",
    "This documentation species the elements of TensorFlow1.0 (TF1.0). "
   ]
  },
  {
   "cell_type": "code",
   "execution_count": null,
   "metadata": {},
   "outputs": [],
   "source": [
    "# Importing the necessary libraries to use TF1.x\n",
    "import tensorflow.compat.v1 as tf\n",
    "tf.compat.v1.disable_eager_execution() # need to disable eager in TF2.x"
   ]
  },
  {
   "attachments": {},
   "cell_type": "markdown",
   "metadata": {},
   "source": [
    "## Constants: \n",
    "\n",
    "These are immutable tensors, whose values can not be changed during computations, but they can be used to create new tensors.\n",
    "\n",
    "The type of these tensors is ```tf.Tensor```.\n",
    "\n",
    "<br>\n",
    "\n",
    "They can consist of various kinds of elements, like integers, floats, strings etc. There can also be various kinds of data types like float16 or int32 as shown below, which specify the precision to which these numbers are stored as data. \n",
    "\n",
    "We can also add names to the tensors, although this is not needed while setting up a ML model.\n",
    "\n",
    "Printing the tensor yields its type 'Tensor', its shape and its data type."
   ]
  },
  {
   "cell_type": "code",
   "execution_count": 4,
   "metadata": {},
   "outputs": [
    {
     "name": "stdout",
     "output_type": "stream",
     "text": [
      "Tensor(\"Const_5:0\", shape=(2,), dtype=float32)\n"
     ]
    }
   ],
   "source": [
    "# Exmaples\n",
    "tensor1 = tf.constant(4)\n",
    "tensor2 = tf.constant([6.0, 5.6])\n",
    "tensor3 = tf.constant('yolo')\n",
    "tensor4 = tf.constant([[[1,2,3]]], dtype=tf.int16)\n",
    "tensor5 = tf.constant([[[1,2]]], dtype=tf.int32)\n",
    "tensor6 = tf.constant([[[1]]], dtype=tf.int64)\n",
    "tensor7 = tf.constant([[[1,2.0,3]]], dtype=tf.float16)\n",
    "tensor8 = tf.constant([[[12]]], dtype=tf.float32)\n",
    "tensor9 = tf.constant([[[1,2.0,3]]], dtype=tf.float64)\n",
    "tensor10 = tf.constant([[[1,2.0,3]]], dtype=tf.float64, name='yo')\n",
    "\n",
    "print(tensor2)"
   ]
  },
  {
   "attachments": {},
   "cell_type": "markdown",
   "metadata": {},
   "source": [
    "The following cell demonstrates the immuntability of constants using the method, ```tf.assign()```."
   ]
  },
  {
   "cell_type": "code",
   "execution_count": 5,
   "metadata": {},
   "outputs": [
    {
     "ename": "AttributeError",
     "evalue": "'Tensor' object has no attribute 'assign'",
     "output_type": "error",
     "traceback": [
      "\u001b[0;31m---------------------------------------------------------------------------\u001b[0m",
      "\u001b[0;31mAttributeError\u001b[0m                            Traceback (most recent call last)",
      "\u001b[1;32m/Users/paarthdudani/Desktop/Python files/TensorFlow_Documentation.ipynb Cell 13\u001b[0m in \u001b[0;36m<cell line: 1>\u001b[0;34m()\u001b[0m\n\u001b[0;32m----> <a href='vscode-notebook-cell:/Users/paarthdudani/Desktop/Python%20files/TensorFlow_Documentation.ipynb#Y240sZmlsZQ%3D%3D?line=0'>1</a>\u001b[0m a \u001b[39m=\u001b[39m tf\u001b[39m.\u001b[39;49massign(tensor1, \u001b[39m5\u001b[39;49m)\n",
      "File \u001b[0;32m~/anaconda3/lib/python3.9/site-packages/tensorflow/python/ops/state_ops.py:355\u001b[0m, in \u001b[0;36massign\u001b[0;34m(ref, value, validate_shape, use_locking, name)\u001b[0m\n\u001b[1;32m    351\u001b[0m \u001b[39mif\u001b[39;00m ref\u001b[39m.\u001b[39mdtype\u001b[39m.\u001b[39m_is_ref_dtype:\n\u001b[1;32m    352\u001b[0m   \u001b[39mreturn\u001b[39;00m gen_state_ops\u001b[39m.\u001b[39massign(\n\u001b[1;32m    353\u001b[0m       ref, value, use_locking\u001b[39m=\u001b[39muse_locking, name\u001b[39m=\u001b[39mname,\n\u001b[1;32m    354\u001b[0m       validate_shape\u001b[39m=\u001b[39mvalidate_shape)\n\u001b[0;32m--> 355\u001b[0m \u001b[39mreturn\u001b[39;00m ref\u001b[39m.\u001b[39;49massign(value, name\u001b[39m=\u001b[39mname)\n",
      "File \u001b[0;32m~/anaconda3/lib/python3.9/site-packages/tensorflow/python/framework/ops.py:444\u001b[0m, in \u001b[0;36mTensor.__getattr__\u001b[0;34m(self, name)\u001b[0m\n\u001b[1;32m    435\u001b[0m \u001b[39mif\u001b[39;00m name \u001b[39min\u001b[39;00m {\u001b[39m\"\u001b[39m\u001b[39mT\u001b[39m\u001b[39m\"\u001b[39m, \u001b[39m\"\u001b[39m\u001b[39mastype\u001b[39m\u001b[39m\"\u001b[39m, \u001b[39m\"\u001b[39m\u001b[39mravel\u001b[39m\u001b[39m\"\u001b[39m, \u001b[39m\"\u001b[39m\u001b[39mtranspose\u001b[39m\u001b[39m\"\u001b[39m, \u001b[39m\"\u001b[39m\u001b[39mreshape\u001b[39m\u001b[39m\"\u001b[39m, \u001b[39m\"\u001b[39m\u001b[39mclip\u001b[39m\u001b[39m\"\u001b[39m, \u001b[39m\"\u001b[39m\u001b[39msize\u001b[39m\u001b[39m\"\u001b[39m,\n\u001b[1;32m    436\u001b[0m             \u001b[39m\"\u001b[39m\u001b[39mtolist\u001b[39m\u001b[39m\"\u001b[39m, \u001b[39m\"\u001b[39m\u001b[39mdata\u001b[39m\u001b[39m\"\u001b[39m}:\n\u001b[1;32m    437\u001b[0m   \u001b[39m# TODO(wangpeng): Export the enable_numpy_behavior knob\u001b[39;00m\n\u001b[1;32m    438\u001b[0m   \u001b[39mraise\u001b[39;00m \u001b[39mAttributeError\u001b[39;00m(\n\u001b[1;32m    439\u001b[0m       \u001b[39mf\u001b[39m\u001b[39m\"\u001b[39m\u001b[39m{\u001b[39;00m\u001b[39mtype\u001b[39m(\u001b[39mself\u001b[39m)\u001b[39m.\u001b[39m\u001b[39m__name__\u001b[39m\u001b[39m}\u001b[39;00m\u001b[39m object has no attribute \u001b[39m\u001b[39m'\u001b[39m\u001b[39m{\u001b[39;00mname\u001b[39m}\u001b[39;00m\u001b[39m'\u001b[39m\u001b[39m. \u001b[39m\u001b[39m\"\u001b[39m \u001b[39m+\u001b[39m \u001b[39m\"\"\"\u001b[39m\n\u001b[1;32m    440\u001b[0m \u001b[39m    If you are looking for numpy-related methods, please run the following:\u001b[39m\n\u001b[1;32m    441\u001b[0m \u001b[39m    from tensorflow.python.ops.numpy_ops import np_config\u001b[39m\n\u001b[1;32m    442\u001b[0m \u001b[39m    np_config.enable_numpy_behavior()\u001b[39m\n\u001b[1;32m    443\u001b[0m \u001b[39m  \u001b[39m\u001b[39m\"\"\"\u001b[39m)\n\u001b[0;32m--> 444\u001b[0m \u001b[39mself\u001b[39;49m\u001b[39m.\u001b[39;49m\u001b[39m__getattribute__\u001b[39;49m(name)\n",
      "\u001b[0;31mAttributeError\u001b[0m: 'Tensor' object has no attribute 'assign'"
     ]
    }
   ],
   "source": [
    "a = tf.assign(tensor1, 5)"
   ]
  },
  {
   "attachments": {},
   "cell_type": "markdown",
   "metadata": {},
   "source": [
    "## Variables:\n",
    "There are mutable tensors and allow us to add new parameters to the system. These have to be created before running/executing a graph in a session.\n",
    "\n",
    "The type of these tensors is ```tf.Variable```.\n",
    "\n",
    "<br>\n",
    "\n",
    "They can also consist of various kinds of elements, like integers, floats, strings etc., with different data types.\n",
    "\n",
    "Again, Printing the tensor yields its type 'variable', its shape and its data type."
   ]
  },
  {
   "cell_type": "code",
   "execution_count": null,
   "metadata": {},
   "outputs": [],
   "source": [
    "tensor11 = tf.Variable(1)\n",
    "tensor12 = tf.Variable([6.0, 5.6])\n",
    "tensor13 = tf.Variable('yolo')\n",
    "tensor14 = tf.Variable([[[1,2,3]]], dtype=tf.int16)\n",
    "tensor15 = tf.Variable([[[1,2]]], dtype=tf.int32)\n",
    "tensor16 = tf.Variable([[[1]]], dtype=tf.int64)\n",
    "tensor17 = tf.Variable([[[1,2.0,3]]], dtype=tf.float16)\n",
    "tensor18 = tf.Variable([[[12]]], dtype=tf.float32)\n",
    "tensor19 = tf.Variable([[[1,2.0,3]]], dtype=tf.float64)\n",
    "tensor20 = tf.Variable([[[1,2.0,3]]], dtype=tf.float64, name='yo')\n",
    "\n",
    "print(tensor11)"
   ]
  },
  {
   "attachments": {},
   "cell_type": "markdown",
   "metadata": {},
   "source": [
    "The following cell demonstrates the muntability of variables using the method, ```tf.assign()```."
   ]
  },
  {
   "cell_type": "code",
   "execution_count": null,
   "metadata": {},
   "outputs": [],
   "source": [
    "a = tf.assign(tensor11, 5)"
   ]
  },
  {
   "attachments": {},
   "cell_type": "markdown",
   "metadata": {},
   "source": [
    "## Placeholder:  \n",
    "\n",
    "These are special elements which allows one to feed data into the model from outside.\n",
    "\n",
    "It can be assigned a value later. There is a certain way to feed data into the placeholders, if done manually. "
   ]
  },
  {
   "cell_type": "code",
   "execution_count": null,
   "metadata": {},
   "outputs": [],
   "source": [
    "t1 = tf.placeholder(tf.float32)\n",
    "t2 = tf.placeholder(dtype = tf.float16)\n",
    "t3 = tf.placeholder(dtype = tf.float64)\n",
    "t4 = tf.placeholder(dtype = tf.int32)\n",
    "t5 = tf.placeholder(dtype = tf.int64)\n",
    "t6 = tf.placeholder(dtype = tf.int16)"
   ]
  },
  {
   "attachments": {},
   "cell_type": "markdown",
   "metadata": {},
   "source": [
    "## Feeding placeholders with data:\n",
    "\n",
    "Placeholders can be fed data using python dictionaries. "
   ]
  },
  {
   "attachments": {},
   "cell_type": "markdown",
   "metadata": {},
   "source": [
    "### Python dictionaries:\n",
    "\n",
    "A python dictionary is nothing but pairs of keys and their values.\n",
    "\n",
    "Following is an example of a python dictionary:"
   ]
  },
  {
   "cell_type": "code",
   "execution_count": null,
   "metadata": {},
   "outputs": [],
   "source": [
    "feed_dict = {t1: 1.0, t2: 2.0, t3: 3.0, t4: 4.0, t5: 5.0, t6: 6.0}\n",
    "feed_dict"
   ]
  },
  {
   "attachments": {},
   "cell_type": "markdown",
   "metadata": {},
   "source": [
    "In the context of feeding data to a model, the predefined placeholders act as keys whereas the values are the data which is fed into the model.\n",
    "\n",
    "An important thing to note is that the data fed as the dictionary should be a list, an array or a dictionary which is created directly from the data itself. It can not be a tensor."
   ]
  },
  {
   "cell_type": "code",
   "execution_count": null,
   "metadata": {},
   "outputs": [],
   "source": [
    "t1 = tf.placeholder(tf.float32)\n",
    "t2 = tf.square(t1)\n",
    "t3 = [[1,2,3,4,5,6,7]]\n",
    "with tf.Session() as sess:\n",
    "    result = sess.run(t2, feed_dict = {t1 : t3})\n",
    "    print(result)\n",
    "\n",
    "print(type(t1))\n",
    "print(type(t3))\n"
   ]
  },
  {
   "attachments": {},
   "cell_type": "markdown",
   "metadata": {},
   "source": [
    "```python\n",
    "sess.run(t2, feed_dict = {t1 : t3})\n",
    "```\n",
    "This snippet of code essentially means that considering the value of t1 to be t3, evaluate and yield the value of ```t2```."
   ]
  },
  {
   "attachments": {},
   "cell_type": "markdown",
   "metadata": {},
   "source": [
    "#  Doumentation #3: How TensorFlow works - Graphs and Sessions\n",
    "\n",
    "\n",
    "There are two main components involved in how TensorFlow fundamentally works, viz. graphs and sessions."
   ]
  },
  {
   "attachments": {},
   "cell_type": "markdown",
   "metadata": {},
   "source": [
    "## Graphs:\n",
    "\n",
    "\n",
    "As opposed to a line by line, sequential execution of a typical programme, TensorFlow (1.x) works in a fundamentally different manner.  \n",
    "\n",
    "It works by creating a graph of constants, variables and placeholders, which consists of various defined relationships between them, say in the form of equations. \n",
    "\n",
    "Following is an example of a typical graph (first we import the necessary libraries):"
   ]
  },
  {
   "cell_type": "code",
   "execution_count": null,
   "metadata": {},
   "outputs": [],
   "source": [
    "# Importing the necessary libraries to use TF1.x\n",
    "import tensorflow.compat.v1 as tf\n",
    "tf.compat.v1.disable_eager_execution() # need to disable eager in TF2.x"
   ]
  },
  {
   "attachments": {},
   "cell_type": "markdown",
   "metadata": {},
   "source": [
    "Constructing a graph of tensors and operations is called 'building a graph'. Here, t3,...,t14, constitute the present graph.\n",
    "\n",
    "An important thing to note in the context of TF1 is that printing graph (or the components of the graph, which are the tensors) does not yield any values, rather it yields the type (constant/variable or some attribute), the shape and the data types of the tensors. \n",
    "\n",
    "This is because the graph/tensors must first be evaluated before their values can be printed. \n",
    "\n",
    "Thus, a graph is just an abstract representation of the set of computations which are yet to be performed."
   ]
  },
  {
   "cell_type": "code",
   "execution_count": null,
   "metadata": {},
   "outputs": [],
   "source": [
    "t1 = tf.constant(3.0, dtype=tf.float32)\n",
    "t2 = tf.constant(4.0)\n",
    "t0 = tf.placeholder(tf.float32)\n",
    "\n",
    "# Creating a graph.\n",
    "t3 = tf.add(t1, t2)\n",
    "t4 = tf.multiply(t1, t2)\n",
    "t5 = tf.subtract(t1, t2)\n",
    "t6 = tf.divide(t1, t2)\n",
    "t7 = tf.mod(t1, t2)\n",
    "t8 = tf.pow(t1, t2)\n",
    "t9 = tf.square(t1)\n",
    "t10 = tf.sqrt(t1)\n",
    "t11 = tf.exp(t1)\n",
    "t12 = tf.log(t1)\n",
    "t13 = tf.sin(t1)\n",
    "t14 = tf.cos(t1)\n",
    "\n",
    "\n",
    "print(t6)"
   ]
  },
  {
   "attachments": {},
   "cell_type": "markdown",
   "metadata": {},
   "source": [
    "## Sessions:\n",
    "\n",
    "Evalution of the graphs is where the sessions come into the picture.\n",
    "\n",
    "A session is used to compute/execute parts of or the entirety of a graph. Upon launching the session, one can execute and compute parts of the graphs and obtain the values of all tensors in the graph.\n",
    "\n",
    "\n",
    "The following cell shows launching a session and execution of parts of the above defined graph, using the function ```sess.run()```: "
   ]
  },
  {
   "cell_type": "code",
   "execution_count": null,
   "metadata": {},
   "outputs": [],
   "source": [
    "# Launching a session\n",
    "\n",
    "sess = tf.Session()\n",
    "\n",
    "# Running the graph\n",
    "\n",
    "print(sess.run(t4))\n",
    "print(sess.run(t5))\n",
    "print(sess.run(t6))\n",
    "print(sess.run(t7))\n",
    "print(sess.run(t8))\n",
    "print(sess.run(t1))"
   ]
  },
  {
   "attachments": {},
   "cell_type": "markdown",
   "metadata": {},
   "source": [
    "One can not compute a placeholder tensor, because it has to be fed some values first. Thus, the following code yields an error:"
   ]
  },
  {
   "cell_type": "code",
   "execution_count": null,
   "metadata": {},
   "outputs": [],
   "source": [
    "print(sess.run(t0))"
   ]
  },
  {
   "cell_type": "markdown",
   "metadata": {},
   "source": [
    "Equivalent ways of running the session through the function eval():"
   ]
  },
  {
   "cell_type": "code",
   "execution_count": null,
   "metadata": {},
   "outputs": [],
   "source": [
    "print(t1.eval(session=sess))\n",
    "print(t4.eval(session=sess))\n",
    "print(t6.eval(session=sess))\n",
    "print(t9.eval(session=sess))\n",
    "print(t11.eval(session=sess))\n",
    "print(t12.eval(session=sess))"
   ]
  },
  {
   "cell_type": "code",
   "execution_count": null,
   "metadata": {},
   "outputs": [],
   "source": [
    "with sess.as_default():\n",
    "    print(t1.eval())\n",
    "    print(t4.eval())\n",
    "    print(t6.eval())\n",
    "    print(t9.eval())\n",
    "    print(t11.eval())\n",
    "    print(t12.eval())"
   ]
  },
  {
   "attachments": {},
   "cell_type": "markdown",
   "metadata": {},
   "source": [
    "## Closing a session: \n",
    "\n",
    "A sesseion must be closed after it is used, otherwise it will continue to use resources. The method used so far requires that we close the session explicitly after launching it.\n",
    "\n",
    "we can use the launched session any no. of times before closing it, however, we can not use it once it is closed. Thus, running the following cell more than once yields an error:"
   ]
  },
  {
   "cell_type": "code",
   "execution_count": null,
   "metadata": {},
   "outputs": [],
   "source": [
    "print(sess.run(t1))\n",
    "print(sess.run(t3))\n",
    "print(sess.run(t6))\n",
    "sess.close()"
   ]
  },
  {
   "attachments": {},
   "cell_type": "markdown",
   "metadata": {},
   "source": [
    "There exists a better way to launch a session, which doesn't require us to close the session explicitly. This is done using the ```with``` statement. \n"
   ]
  },
  {
   "cell_type": "code",
   "execution_count": null,
   "metadata": {},
   "outputs": [],
   "source": [
    "with tf.Session() as sess:\n",
    "    print('hello')\n",
    "    print(sess.run(t1))"
   ]
  },
  {
   "attachments": {},
   "cell_type": "markdown",
   "metadata": {},
   "source": [
    "For the same reason as before, using the session outside the indentation does not work as it auomatically closes the session.\n",
    "\n",
    "So the following code yields an error."
   ]
  },
  {
   "cell_type": "code",
   "execution_count": null,
   "metadata": {},
   "outputs": [],
   "source": [
    "with tf.Session() as sess:\n",
    "    print('hello')\n",
    "    print(sess.run(t7))\n",
    "\n",
    "sess.run(t8)"
   ]
  },
  {
   "attachments": {},
   "cell_type": "markdown",
   "metadata": {},
   "source": [
    "## A caveat with sessions:\n",
    "\n",
    "The following cell consists of a graph made up of tensors which a variables and operations being performed on them."
   ]
  },
  {
   "cell_type": "code",
   "execution_count": null,
   "metadata": {},
   "outputs": [],
   "source": [
    "t1 = tf.Variable(3.0, dtype=tf.float32)\n",
    "t2 = tf.Variable(4.0)\n",
    "t3 = tf.add(t1, t2)\n",
    "t4 = tf.multiply(t1, t2)\n",
    "t5 = tf.subtract(t1, t2)\n",
    "t6 = tf.divide(t1, t2)\n",
    "t7 = tf.mod(t1, t2)\n",
    "t8 = tf.pow(t1, t2)\n",
    "t9 = tf.square(t1)\n",
    "t10 = tf.sqrt(t1)\n",
    "t11 = tf.exp(t1)\n",
    "t12 = tf.log(t1)"
   ]
  },
  {
   "attachments": {},
   "cell_type": "markdown",
   "metadata": {},
   "source": [
    "Launching a standard session and computing any parts of the graph yields error as shown below:"
   ]
  },
  {
   "cell_type": "code",
   "execution_count": null,
   "metadata": {},
   "outputs": [],
   "source": [
    "sess = tf.Session()\n",
    "print(sess.run(t1))\n",
    "print(sess.run(t3))\n",
    "print(sess.run(t6))\n"
   ]
  },
  {
   "attachments": {},
   "cell_type": "markdown",
   "metadata": {},
   "source": [
    "This happens because the variables are supposed to be treated differently from the constants and placeholders. \n",
    "\n",
    "To execute graphs with variables, we have to initialize the operation given by the function ```tf.global_variables_initializer()```. \n",
    "\n",
    "We also need to run this operation in a session before we can start computing any variables as parts of our graph."
   ]
  },
  {
   "cell_type": "code",
   "execution_count": null,
   "metadata": {},
   "outputs": [],
   "source": [
    "var_op = tf.global_variables_initializer()\n",
    "sess.run(var_op)"
   ]
  },
  {
   "attachments": {},
   "cell_type": "markdown",
   "metadata": {},
   "source": [
    "Now we can compute any part of the graph consisting of variable tensors:"
   ]
  },
  {
   "cell_type": "code",
   "execution_count": null,
   "metadata": {},
   "outputs": [],
   "source": [
    "print(sess.run(t1))\n",
    "print(sess.run(t3))\n",
    "print(sess.run(t6))\n",
    "print(sess.run(t9))"
   ]
  },
  {
   "attachments": {},
   "cell_type": "markdown",
   "metadata": {},
   "source": [
    "# Doumentation #4: Running TensorFlow1.x on TensorFlow 2.\n",
    "\n",
    "So far we have seen how TensorFlow1.x (TF1.x) works, however, there is a new version of TensorFlow, TensorFlow2, which has additional features and is easier to use. \n",
    "\n",
    "Since, a lot of code as already been written in TF1.x, it is useful to be able to run TF1 code using TF2 libraries."
   ]
  },
  {
   "attachments": {},
   "cell_type": "markdown",
   "metadata": {},
   "source": [
    "\n",
    "If we import tensorflow using the standard command and print its version, we obtain the current version of tensorflow which is TF2. "
   ]
  },
  {
   "cell_type": "code",
   "execution_count": null,
   "metadata": {},
   "outputs": [],
   "source": [
    "import tensorflow as tf\n",
    "\n",
    "import numpy as np\n",
    "print(tf.__version__)"
   ]
  },
  {
   "cell_type": "markdown",
   "metadata": {},
   "source": [
    "Now, certain modules and attributes present in TF1.x are absent from TF2, e.g. Session() etc. \n",
    "\n",
    "Thus, running the cell below yields an error."
   ]
  },
  {
   "cell_type": "code",
   "execution_count": null,
   "metadata": {},
   "outputs": [],
   "source": [
    "sess = tf.Session() "
   ]
  },
  {
   "cell_type": "markdown",
   "metadata": {},
   "source": [
    "This issue can be addressed by Importing the TensorFLow library, ```tensorflow.compat.v1```, which is compatible with TF1.x.\n",
    "\n",
    "This library also has the same version as that of ```tensorflow```."
   ]
  },
  {
   "cell_type": "code",
   "execution_count": null,
   "metadata": {},
   "outputs": [],
   "source": [
    "import tensorflow.compat.v1 as tf\n",
    "print(tf.__version__)\n",
    "\n",
    "sess = tf.Session() "
   ]
  },
  {
   "cell_type": "markdown",
   "metadata": {},
   "source": [
    "However, there are still more issues because the TensorFlow2 version also has the feature of eager execution which is not compatible with some methods such as, placeholder. \n",
    "\n",
    "\n",
    "Thus, even after inporting the TF1.x compatible version, running the cell below still yields an error. "
   ]
  },
  {
   "cell_type": "code",
   "execution_count": null,
   "metadata": {},
   "outputs": [],
   "source": [
    "import tensorflow.compat.v1 as tf\n",
    "\n",
    "input_ = tf.placeholder(tf.float32, shape=[2])"
   ]
  },
  {
   "cell_type": "markdown",
   "metadata": {},
   "source": [
    "To address this issue, we use another command, which disables eager execution feature of TF2, along with importing the TF1.x compatible library of TF2.\n",
    "\n",
    "Now, we can freely program using TF1.x using a TF2 library."
   ]
  },
  {
   "cell_type": "code",
   "execution_count": null,
   "metadata": {},
   "outputs": [],
   "source": [
    "import tensorflow.compat.v1 as tf\n",
    "tf.compat.v1.disable_eager_execution() # need to disable eager in TF2.x\n",
    "\n",
    "input_ = tf.placeholder(tf.float32, shape=[2])"
   ]
  },
  {
   "cell_type": "markdown",
   "metadata": {},
   "source": [
    "There is a caveat with disabling the eager execution feature:\n",
    "\n",
    "A particular program runs only with the eager execution being either disabled in the beginning or enabled and then subsequently disabled.\n",
    "\n",
    " This means that the eager execution function can not be re-enabled in the same program after being disabled. Thus, restarting runtime/variables is the only way to enable eager execution.\n",
    "\n",
    "<br>\n",
    "There exists a command to enable eager execution explicitly but it is redundant since eager execution is active by default while using a TF2 library and useless since one can't re-enable it anyway."
   ]
  },
  {
   "cell_type": "code",
   "execution_count": null,
   "metadata": {},
   "outputs": [],
   "source": [
    "import tensorflow.compat.v1 as tf\n",
    "tf.compat.v1.disable_eager_execution() # need to disable eager in TF2.x\n",
    "graph = tf.get_default_graph()\n",
    "operations= graph.get_operations()\n",
    "a = tf.constant(3.0, dtype=tf.float32)\n",
    "b = tf.constant(4.0)\n",
    "c = tf.add(a, b, name='add')\n",
    "d = tf.multiply(a, b, name='mul')\n",
    "e = tf.subtract(a, b, name='sub')\n",
    "f = tf.divide(a, b, name='div')\n",
    "\n",
    "\n",
    "operations"
   ]
  }
 ],
 "metadata": {
  "kernelspec": {
   "display_name": "base",
   "language": "python",
   "name": "python3"
  },
  "language_info": {
   "codemirror_mode": {
    "name": "ipython",
    "version": 3
   },
   "file_extension": ".py",
   "mimetype": "text/x-python",
   "name": "python",
   "nbconvert_exporter": "python",
   "pygments_lexer": "ipython3",
   "version": "3.9.13"
  },
  "orig_nbformat": 4
 },
 "nbformat": 4,
 "nbformat_minor": 2
}
